{
  "nbformat": 4,
  "nbformat_minor": 0,
  "metadata": {
    "colab": {
      "name": "Linear search, Binary search, Linked Lists",
      "provenance": [],
      "collapsed_sections": [],
      "authorship_tag": "ABX9TyMUTiC7UO9eSQudEiwYxd8t",
      "include_colab_link": true
    },
    "kernelspec": {
      "name": "python3",
      "display_name": "Python 3"
    },
    "language_info": {
      "name": "python"
    }
  },
  "cells": [
    {
      "cell_type": "markdown",
      "metadata": {
        "id": "view-in-github",
        "colab_type": "text"
      },
      "source": [
        "<a href=\"https://colab.research.google.com/github/ShreyasP77/DSA_practice/blob/master/Linear_search%2C_Binary_search%2C_Linked_Lists.ipynb\" target=\"_parent\"><img src=\"https://colab.research.google.com/assets/colab-badge.svg\" alt=\"Open In Colab\"/></a>"
      ]
    },
    {
      "cell_type": "markdown",
      "source": [
        "\n",
        "\n",
        "> ```Q. Alice has some cards with numbers written on them. She arranges the cards in decreasing order, and lays down face down in a sequence on a table.She challenges Bob to pick out a card containing a given number by turning over as few cards as possible, write a function to Bob locate the card.```\n",
        "\n",
        ">*Simplifying the question :*\n",
        "```\n",
        "TC1.)let us consider Alice placed the cards accordingly are in the \n",
        "     decreasing order and numbered as,\n",
        "      cards = [13,12,11,7,3,2,1,0]\n",
        "     And asked to draw a card numbered = 7\n",
        "TC2.)let us consider Alice placed the cards accordingly are in the \n",
        "     decreasing order and numbered as,\n",
        "      cards = [7,3,2,1,0]\n",
        "     And asked to draw a card numbered = 7\n",
        "TC3.)let us consider Alice placed the cards accordingly are in the \n",
        "     decreasing order and numbered as,\n",
        "      cards = [6,3,3,3,2,2,1,0]\n",
        "     And asked to draw a card numbered = 1\n",
        "TC4.)let us consider Alice placed the cards accordingly are in the \n",
        "     decreasing order and numbered as,\n",
        "      cards = [7,3,3,1,0]\n",
        "     And asked to draw a card numbered = 3\n",
        "     (remember: within the few picks bob needs to locate the card)\n",
        "TC5.)let us consider Alice placed the cards accordingly are in the \n",
        "     decreasing order and numbered as,\n",
        "      cards = []\n",
        "     And asked to draw a card numbered = 7\n",
        "TC6.)let us consider Alice placed the cards accordingly are in the \n",
        "     decreasing order and numbered as,\n",
        "      cards = [7,3,2,1,0]\n",
        "     And asked to draw a card numbered = 8\n",
        "    "
      ],
      "metadata": {
        "id": "0fyPiRWyPmjf"
      }
    },
    {
      "cell_type": "code",
      "execution_count": null,
      "metadata": {
        "id": "QRLnspGEM2eX"
      },
      "outputs": [],
      "source": [
        "tests={\n",
        "  \"1\":{  \"input\":{\n",
        "        \"cards\":[13,12,11,7,3,2,1,0],\n",
        "        \"query\":7\n",
        "    },\n",
        "    \"output\":3},\n",
        "      \"2\":{  \"input\":{\n",
        "        \"cards\":[7,3,2,1,0],\n",
        "        \"query\":7\n",
        "    },\n",
        "    \"output\":0},\n",
        "     \"3\":{  \"input\":{\n",
        "        \"cards\":[6,3,3,3,2,2,1,0],\n",
        "        \"query\":1\n",
        "    },\n",
        "    \"output\":6},\n",
        "     \"4\":{  \"input\":{\n",
        "        \"cards\":[7,3,3,3,1,0],\n",
        "        \"query\":3\n",
        "    },\n",
        "    \"output\":1},\n",
        "     \"5\":{  \"input\":{\n",
        "        \"cards\":[],\n",
        "        \"query\":7\n",
        "    },\n",
        "    \"output\":-1},\n",
        "     \"6\":{  \"input\":{\n",
        "        \"cards\":[7,3,2,1,0],\n",
        "        \"query\":8\n",
        "    },\n",
        "    \"output\":-1}\n",
        "}"
      ]
    },
    {
      "cell_type": "code",
      "source": [
        "tests"
      ],
      "metadata": {
        "id": "ru-tNbAxZvNn"
      },
      "execution_count": null,
      "outputs": []
    },
    {
      "cell_type": "code",
      "source": [
        "def locate_card_using_LinearSearch(cards,query):\n",
        "  position = 0\n",
        "  \n",
        "  while True:\n",
        "    if len(cards) == 0:\n",
        "      return -1\n",
        "\n",
        "    if cards[position] == query :\n",
        "      return position\n",
        "\n",
        "    position += 1\n",
        "   \n",
        "    if position == len(cards):\n",
        "      return -1\n",
        "\n",
        "    "
      ],
      "metadata": {
        "id": "IU4uTBtSaFhJ"
      },
      "execution_count": 94,
      "outputs": []
    },
    {
      "cell_type": "code",
      "source": [
        "def locate_card_using_BinarySearch(cards,query):\n",
        "  position = 0\n",
        "  \n",
        "  while True:\n",
        "    if len(cards) == 0:\n",
        "      return -1\n",
        "\n",
        "    if cards[position] == query :\n",
        "      return position\n",
        "\n",
        "    position += 1\n",
        "   \n",
        "    if position == len(cards):\n",
        "      return -1"
      ],
      "metadata": {
        "id": "qvkc7NyF1Zjs"
      },
      "execution_count": null,
      "outputs": []
    },
    {
      "cell_type": "code",
      "source": [
        "for test in tests:\n",
        "  result=locate_card_using_LinearSearch(**tests[test]['input'])\n",
        "  print( 'TC -',test,\":\",result== tests[test]['output'])\n",
        "  # print (tests[test]['input'])"
      ],
      "metadata": {
        "colab": {
          "base_uri": "https://localhost:8080/"
        },
        "id": "fZ0Q0pzjm8_V",
        "outputId": "88a1ac8c-ce2a-4c2b-ce48-494d196d5856"
      },
      "execution_count": 95,
      "outputs": [
        {
          "output_type": "stream",
          "name": "stdout",
          "text": [
            "TC - 1 : True\n",
            "TC - 2 : True\n",
            "TC - 3 : True\n",
            "TC - 4 : True\n",
            "TC - 5 : True\n",
            "TC - 6 : True\n"
          ]
        }
      ]
    }
  ]
}